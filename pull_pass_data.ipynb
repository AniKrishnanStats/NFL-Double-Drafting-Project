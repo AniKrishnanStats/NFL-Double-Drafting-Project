{
 "cells": [
  {
   "cell_type": "code",
   "execution_count": 1,
   "id": "467597d8",
   "metadata": {},
   "outputs": [
    {
     "name": "stdout",
     "output_type": "stream",
     "text": [
      "v nflreadr function cache cleared!\n"
     ]
    },
    {
     "name": "stderr",
     "output_type": "stream",
     "text": [
      "R callback write-console: <class 'UnicodeDecodeError'> 'utf-8' codec can't decode byte 0x85 in position 33: invalid start byte <traceback object at 0x000001F76E363B00>\n"
     ]
    },
    {
     "name": "stdout",
     "output_type": "stream",
     "text": [
      "  → 2000 (auto file_type: parquet if arrow present, else csv)\n"
     ]
    },
    {
     "name": "stderr",
     "output_type": "stream",
     "text": [
      "R callback write-console: Season 2000: teams=31, dropbacks[sum]=18767\n",
      "  \n",
      "R callback write-console: <class 'UnicodeDecodeError'> 'utf-8' codec can't decode byte 0x85 in position 33: invalid start byte <traceback object at 0x000001F76E363800>\n"
     ]
    },
    {
     "name": "stdout",
     "output_type": "stream",
     "text": [
      "  → 2001 (auto file_type: parquet if arrow present, else csv)\n"
     ]
    },
    {
     "name": "stderr",
     "output_type": "stream",
     "text": [
      "R callback write-console: Season 2001: teams=31, dropbacks[sum]=18719\n",
      "  \n",
      "R callback write-console: <class 'UnicodeDecodeError'> 'utf-8' codec can't decode byte 0x85 in position 33: invalid start byte <traceback object at 0x000001F76E363400>\n"
     ]
    },
    {
     "name": "stdout",
     "output_type": "stream",
     "text": [
      "  → 2002 (auto file_type: parquet if arrow present, else csv)\n"
     ]
    },
    {
     "name": "stderr",
     "output_type": "stream",
     "text": [
      "R callback write-console: Season 2002: teams=32, dropbacks[sum]=19982\n",
      "  \n",
      "R callback write-console: <class 'UnicodeDecodeError'> 'utf-8' codec can't decode byte 0x85 in position 33: invalid start byte <traceback object at 0x000001F76E362FC0>\n"
     ]
    },
    {
     "name": "stdout",
     "output_type": "stream",
     "text": [
      "  → 2003 (auto file_type: parquet if arrow present, else csv)\n"
     ]
    },
    {
     "name": "stderr",
     "output_type": "stream",
     "text": [
      "R callback write-console: Season 2003: teams=32, dropbacks[sum]=18353\n",
      "  \n",
      "R callback write-console: <class 'UnicodeDecodeError'> 'utf-8' codec can't decode byte 0x85 in position 33: invalid start byte <traceback object at 0x000001F76E346400>\n"
     ]
    },
    {
     "name": "stdout",
     "output_type": "stream",
     "text": [
      "  → 2004 (auto file_type: parquet if arrow present, else csv)\n"
     ]
    },
    {
     "name": "stderr",
     "output_type": "stream",
     "text": [
      "R callback write-console: Season 2004: teams=32, dropbacks[sum]=18304\n",
      "  \n",
      "R callback write-console: <class 'UnicodeDecodeError'> 'utf-8' codec can't decode byte 0x85 in position 33: invalid start byte <traceback object at 0x000001F76E36A2C0>\n"
     ]
    },
    {
     "name": "stdout",
     "output_type": "stream",
     "text": [
      "  → 2005 (auto file_type: parquet if arrow present, else csv)\n"
     ]
    },
    {
     "name": "stderr",
     "output_type": "stream",
     "text": [
      "R callback write-console: Season 2005: teams=32, dropbacks[sum]=18349\n",
      "  \n",
      "R callback write-console: <class 'UnicodeDecodeError'> 'utf-8' codec can't decode byte 0x85 in position 33: invalid start byte <traceback object at 0x000001F76E369E40>\n"
     ]
    },
    {
     "name": "stdout",
     "output_type": "stream",
     "text": [
      "  → 2006 (auto file_type: parquet if arrow present, else csv)\n"
     ]
    },
    {
     "name": "stderr",
     "output_type": "stream",
     "text": [
      "R callback write-console: Season 2006: teams=32, dropbacks[sum]=18842\n",
      "  \n",
      "R callback write-console: <class 'UnicodeDecodeError'> 'utf-8' codec can't decode byte 0x85 in position 33: invalid start byte <traceback object at 0x000001F76E369300>\n"
     ]
    },
    {
     "name": "stdout",
     "output_type": "stream",
     "text": [
      "  → 2007 (auto file_type: parquet if arrow present, else csv)\n"
     ]
    },
    {
     "name": "stderr",
     "output_type": "stream",
     "text": [
      "R callback write-console: Season 2007: teams=32, dropbacks[sum]=19382\n",
      "  \n",
      "R callback write-console: <class 'UnicodeDecodeError'> 'utf-8' codec can't decode byte 0x85 in position 33: invalid start byte <traceback object at 0x000001F76E369480>\n"
     ]
    },
    {
     "name": "stdout",
     "output_type": "stream",
     "text": [
      "  → 2008 (auto file_type: parquet if arrow present, else csv)\n"
     ]
    },
    {
     "name": "stderr",
     "output_type": "stream",
     "text": [
      "R callback write-console: Season 2008: teams=32, dropbacks[sum]=18873\n",
      "  \n",
      "R callback write-console: <class 'UnicodeDecodeError'> 'utf-8' codec can't decode byte 0x85 in position 33: invalid start byte <traceback object at 0x000001F76E368500>\n"
     ]
    },
    {
     "name": "stdout",
     "output_type": "stream",
     "text": [
      "  → 2009 (auto file_type: parquet if arrow present, else csv)\n"
     ]
    },
    {
     "name": "stderr",
     "output_type": "stream",
     "text": [
      "R callback write-console: Season 2009: teams=32, dropbacks[sum]=19379\n",
      "  \n",
      "R callback write-console: <class 'UnicodeDecodeError'> 'utf-8' codec can't decode byte 0x85 in position 33: invalid start byte <traceback object at 0x000001F76E36A700>\n"
     ]
    },
    {
     "name": "stdout",
     "output_type": "stream",
     "text": [
      "  → 2010 (auto file_type: parquet if arrow present, else csv)\n"
     ]
    },
    {
     "name": "stderr",
     "output_type": "stream",
     "text": [
      "R callback write-console: Season 2010: teams=32, dropbacks[sum]=19833\n",
      "  \n",
      "R callback write-console: <class 'UnicodeDecodeError'> 'utf-8' codec can't decode byte 0x85 in position 33: invalid start byte <traceback object at 0x000001F76E36A4C0>\n"
     ]
    },
    {
     "name": "stdout",
     "output_type": "stream",
     "text": [
      "  → 2011 (auto file_type: parquet if arrow present, else csv)\n"
     ]
    },
    {
     "name": "stderr",
     "output_type": "stream",
     "text": [
      "R callback write-console: Season 2011: teams=32, dropbacks[sum]=20185\n",
      "  \n",
      "R callback write-console: <class 'UnicodeDecodeError'> 'utf-8' codec can't decode byte 0x85 in position 33: invalid start byte <traceback object at 0x000001F76E36B4C0>\n"
     ]
    },
    {
     "name": "stdout",
     "output_type": "stream",
     "text": [
      "  → 2012 (auto file_type: parquet if arrow present, else csv)\n"
     ]
    },
    {
     "name": "stderr",
     "output_type": "stream",
     "text": [
      "R callback write-console: Season 2012: teams=32, dropbacks[sum]=20465\n",
      "  \n",
      "R callback write-console: <class 'UnicodeDecodeError'> 'utf-8' codec can't decode byte 0x85 in position 33: invalid start byte <traceback object at 0x000001F76E39C1C0>\n"
     ]
    },
    {
     "name": "stdout",
     "output_type": "stream",
     "text": [
      "  → 2013 (auto file_type: parquet if arrow present, else csv)\n"
     ]
    },
    {
     "name": "stderr",
     "output_type": "stream",
     "text": [
      "R callback write-console: Season 2013: teams=32, dropbacks[sum]=20984\n",
      "  \n",
      "R callback write-console: <class 'UnicodeDecodeError'> 'utf-8' codec can't decode byte 0x85 in position 33: invalid start byte <traceback object at 0x000001F76E39C140>\n"
     ]
    },
    {
     "name": "stdout",
     "output_type": "stream",
     "text": [
      "  → 2014 (auto file_type: parquet if arrow present, else csv)\n"
     ]
    },
    {
     "name": "stderr",
     "output_type": "stream",
     "text": [
      "R callback write-console: Season 2014: teams=32, dropbacks[sum]=20631\n",
      "  \n",
      "R callback write-console: <class 'UnicodeDecodeError'> 'utf-8' codec can't decode byte 0x85 in position 33: invalid start byte <traceback object at 0x000001F76E39CC00>\n"
     ]
    },
    {
     "name": "stdout",
     "output_type": "stream",
     "text": [
      "  → 2015 (auto file_type: parquet if arrow present, else csv)\n"
     ]
    },
    {
     "name": "stderr",
     "output_type": "stream",
     "text": [
      "R callback write-console: Season 2015: teams=32, dropbacks[sum]=21127\n",
      "  \n",
      "R callback write-console: <class 'UnicodeDecodeError'> 'utf-8' codec can't decode byte 0x85 in position 33: invalid start byte <traceback object at 0x000001F76E36AC80>\n"
     ]
    },
    {
     "name": "stdout",
     "output_type": "stream",
     "text": [
      "  → 2016 (auto file_type: parquet if arrow present, else csv)\n"
     ]
    },
    {
     "name": "stderr",
     "output_type": "stream",
     "text": [
      "R callback write-console: Season 2016: teams=32, dropbacks[sum]=20974\n",
      "  \n",
      "R callback write-console: <class 'UnicodeDecodeError'> 'utf-8' codec can't decode byte 0x85 in position 33: invalid start byte <traceback object at 0x000001F76E36AC00>\n"
     ]
    },
    {
     "name": "stdout",
     "output_type": "stream",
     "text": [
      "  → 2017 (auto file_type: parquet if arrow present, else csv)\n"
     ]
    },
    {
     "name": "stderr",
     "output_type": "stream",
     "text": [
      "R callback write-console: Season 2017: teams=32, dropbacks[sum]=20341\n",
      "  \n",
      "R callback write-console: <class 'UnicodeDecodeError'> 'utf-8' codec can't decode byte 0x85 in position 33: invalid start byte <traceback object at 0x000001F76E36AAC0>\n"
     ]
    },
    {
     "name": "stdout",
     "output_type": "stream",
     "text": [
      "  → 2018 (auto file_type: parquet if arrow present, else csv)\n"
     ]
    },
    {
     "name": "stderr",
     "output_type": "stream",
     "text": [
      "R callback write-console: Season 2018: teams=32, dropbacks[sum]=20650\n",
      "  \n",
      "R callback write-console: <class 'UnicodeDecodeError'> 'utf-8' codec can't decode byte 0x85 in position 33: invalid start byte <traceback object at 0x000001F76E36BD00>\n"
     ]
    },
    {
     "name": "stdout",
     "output_type": "stream",
     "text": [
      "  → 2019 (auto file_type: parquet if arrow present, else csv)\n"
     ]
    },
    {
     "name": "stderr",
     "output_type": "stream",
     "text": [
      "R callback write-console: Season 2019: teams=32, dropbacks[sum]=20744\n",
      "  \n",
      "R callback write-console: <class 'UnicodeDecodeError'> 'utf-8' codec can't decode byte 0x85 in position 33: invalid start byte <traceback object at 0x000001F76E369AC0>\n"
     ]
    },
    {
     "name": "stdout",
     "output_type": "stream",
     "text": [
      "  → 2020 (auto file_type: parquet if arrow present, else csv)\n"
     ]
    },
    {
     "name": "stderr",
     "output_type": "stream",
     "text": [
      "R callback write-console: Season 2020: teams=32, dropbacks[sum]=21088\n",
      "  \n",
      "R callback write-console: <class 'UnicodeDecodeError'> 'utf-8' codec can't decode byte 0x85 in position 33: invalid start byte <traceback object at 0x000001F76E345940>\n"
     ]
    },
    {
     "name": "stdout",
     "output_type": "stream",
     "text": [
      "  → 2021 (auto file_type: parquet if arrow present, else csv)\n"
     ]
    },
    {
     "name": "stderr",
     "output_type": "stream",
     "text": [
      "R callback write-console: Season 2021: teams=32, dropbacks[sum]=21960\n",
      "  \n",
      "R callback write-console: <class 'UnicodeDecodeError'> 'utf-8' codec can't decode byte 0x85 in position 33: invalid start byte <traceback object at 0x000001F76E361C00>\n"
     ]
    },
    {
     "name": "stdout",
     "output_type": "stream",
     "text": [
      "  → 2022 (auto file_type: parquet if arrow present, else csv)\n"
     ]
    },
    {
     "name": "stderr",
     "output_type": "stream",
     "text": [
      "R callback write-console: Season 2022: teams=32, dropbacks[sum]=21352\n",
      "  \n",
      "R callback write-console: <class 'UnicodeDecodeError'> 'utf-8' codec can't decode byte 0x85 in position 33: invalid start byte <traceback object at 0x000001F76E362A80>\n"
     ]
    },
    {
     "name": "stdout",
     "output_type": "stream",
     "text": [
      "  → 2023 (auto file_type: parquet if arrow present, else csv)\n"
     ]
    },
    {
     "name": "stderr",
     "output_type": "stream",
     "text": [
      "R callback write-console: Season 2023: teams=32, dropbacks[sum]=21819\n",
      "  \n",
      "R callback write-console: <class 'UnicodeDecodeError'> 'utf-8' codec can't decode byte 0x85 in position 33: invalid start byte <traceback object at 0x000001F76E39CB00>\n"
     ]
    },
    {
     "name": "stdout",
     "output_type": "stream",
     "text": [
      "  → 2024 (auto file_type: parquet if arrow present, else csv)\n"
     ]
    },
    {
     "name": "stderr",
     "output_type": "stream",
     "text": [
      "R callback write-console: Season 2024: teams=32, dropbacks[sum]=21139\n",
      "  \n"
     ]
    },
    {
     "name": "stdout",
     "output_type": "stream",
     "text": [
      "Combined shape: (798, 14)\n",
      "Teams per season (first 5 seasons):\n",
      "season\n",
      "2000    31\n",
      "2001    31\n",
      "2002    32\n",
      "2003    32\n",
      "2004    32\n",
      "Name: defteam, dtype: int64\n",
      "✅ Saved team_pass_defense_all.csv\n",
      "\n",
      "✅ Validation passed (monotonicity, scaling, screening, correlations).\n",
      "\n",
      "Sample (top team per season):\n",
      "     season team      PDX4  season_rank  season_pct\n",
      "2      2000  BAL  1.454036          1.0         1.0\n",
      "38     2001  CLE  1.394187          1.0         1.0\n",
      "91     2002   TB  1.959837          1.0         1.0\n",
      "96     2003  BAL  1.571158          1.0         1.0\n",
      "129    2004  BUF  1.692494          1.0         1.0\n",
      "163    2005  CHI  1.344553          1.0         1.0\n",
      "195    2006  CHI  1.287966          1.0         1.0\n",
      "251    2007   TB  1.255222          1.0         1.0\n",
      "280    2008  PIT  1.717171          1.0         1.0\n",
      "310    2009  NYJ  1.469898          1.0         1.0\n",
      "\n",
      "✅ Outputs:\n",
      " - team_pass_defense_all.csv\n",
      " - team_pass_defense_pdx4_by_season.csv  (percentile: 1=best)\n",
      " - pre_draft_db_strength.csv             (pct_prev: 1=best)\n",
      " - db_pos_rank_by_season.csv\n",
      " - pre_draft_db_pos_rank.csv\n",
      " - pass_defense_validation_report.csv    (for CMU verification)\n"
     ]
    }
   ],
   "source": [
    "# === Pass-Defense Index (NY/D only) with verification — WINDOWS-SAFE, ARROW-OPTIONAL ===\n",
    "import os, sys, subprocess\n",
    "import pandas as pd\n",
    "import numpy as np\n",
    "\n",
    "# --- A) Quiet rpy2 CFFI noise on Windows and ensure rpy2 is present ---\n",
    "os.environ.setdefault(\"RPY2_CFFI_MODE\", \"ABI\")\n",
    "try:\n",
    "    import rpy2  # noqa: F401\n",
    "except ImportError:\n",
    "    subprocess.check_call([sys.executable, \"-m\", \"pip\", \"install\", \"rpy2\"])\n",
    "from rpy2.robjects import r\n",
    "\n",
    "# ------------------ CONFIG ------------------\n",
    "OUT_DIR = \"team_pass_defense\"\n",
    "os.makedirs(OUT_DIR, exist_ok=True)\n",
    "seasons = list(range(2000, 2025))  # inclusive 2000–2024\n",
    "MIN_DROPBACKS = 200                 # sample-size screen\n",
    "# PDX-4 weights (efficiency pillar will be NY/D)\n",
    "W_EFF, W_EXPL, W_COMP, W_INT = 0.40, 0.25, 0.20, 0.15\n",
    "# --------------------------------------------\n",
    "\n",
    "# --- B) R deps & options (prefer parquet if arrow is available) ---\n",
    "OUT_DIR_R = OUT_DIR.replace(\"\\\\\", \"/\")\n",
    "r(f\"\"\"\n",
    "deps <- c(\"nflreadr\",\"dplyr\",\"tidyr\",\"readr\",\"arrow\")\n",
    "to_install <- deps[!vapply(deps, requireNamespace, FUN.VALUE=logical(1), quietly=TRUE)]\n",
    "if (length(to_install)) install.packages(to_install, repos=\"https://cloud.r-project.org\")\n",
    "\n",
    "suppressPackageStartupMessages({{\n",
    "  library(nflreadr); library(dplyr); library(tidyr); library(readr)\n",
    "}})\n",
    "\n",
    "USE_PARQUET <- requireNamespace(\"arrow\", quietly = TRUE)\n",
    "options(nflreadr.prefer = if (USE_PARQUET) \"parquet\" else \"csv\")\n",
    "options(nflreadr.verbose = FALSE)\n",
    "\n",
    "# Clear nflreadr cache once (protects against stale results)\n",
    "try(nflreadr::.clear_cache(), silent = TRUE)\n",
    "\"\"\")\n",
    "\n",
    "# --- C) Per-season extraction → CSVs (EPA ignored entirely) ---\n",
    "for season in seasons:\n",
    "    print(f\"  → {season} (auto file_type: parquet if arrow present, else csv)\")\n",
    "    r.assign(\"SEASON\", season)\n",
    "    r.assign(\"OUT_DIR\", OUT_DIR_R)\n",
    "    r(\"\"\"\n",
    "library(nflreadr); library(dplyr); library(tidyr); library(readr)\n",
    "\n",
    "file_type <- if (getOption(\"nflreadr.prefer\",\"csv\") == \"parquet\") \"parquet\" else \"csv\"\n",
    "message(sprintf(\"Loading PBP for %s via %s …\", SEASON, file_type))\n",
    "\n",
    "pbp <- nflreadr::load_pbp(seasons = SEASON, file_type = file_type)\n",
    "\n",
    "# Guard: some seasons could be empty if something’s off\n",
    "if (is.null(pbp) || !nrow(pbp)) {\n",
    "  stop(sprintf(\"No rows returned for season %s. Try clearing cache and/or switching file_type.\", SEASON))\n",
    "}\n",
    "\n",
    "pbp <- pbp %>% dplyr::filter(!is.na(defteam))\n",
    "\n",
    "# Helper to ensure flags exist\n",
    "add_if_missing_flag <- function(df, col) {\n",
    "  if (!col %in% names(df)) df[[col]] <- 0L\n",
    "  df[[col]] <- tidyr::replace_na(df[[col]], 0L)\n",
    "  df\n",
    "}\n",
    "\n",
    "# Normalize common flags across eras\n",
    "for (nm in c(\"pass\",\"complete_pass\",\"sack\",\"scramble\",\"interception\")) {\n",
    "  pbp <- add_if_missing_flag(pbp, nm)\n",
    "}\n",
    "if (!\"qb_dropback\" %in% names(pbp)) pbp$qb_dropback <- NA\n",
    "\n",
    "# Robust yards fields\n",
    "if (!\"sack_yards\" %in% names(pbp)) pbp$sack_yards <- 0\n",
    "pbp$sack_yards <- dplyr::if_else(is.na(pbp$sack_yards), 0, pbp$sack_yards)\n",
    "if (!\"yards_gained\" %in% names(pbp)) pbp$yards_gained <- 0\n",
    "\n",
    "pbp <- pbp %>%\n",
    "  dplyr::mutate(\n",
    "    is_attempt  = as.integer(pass),\n",
    "    is_complete = as.integer(complete_pass),\n",
    "    is_sack     = as.integer(sack),\n",
    "    is_scramble = as.integer(scramble),\n",
    "    is_int      = as.integer(interception),\n",
    "\n",
    "    qb_db_int   = dplyr::case_when(\n",
    "      !is.na(qb_dropback) ~ as.integer(qb_dropback),\n",
    "      TRUE ~ as.integer((is_attempt==1L) | (is_sack==1L) | (is_scramble==1L))\n",
    "    ),\n",
    "    is_dropback = qb_db_int,\n",
    "\n",
    "    is_explosive = dplyr::if_else(is_complete==1L & !is.na(yards_gained) & yards_gained >= 20, 1L, 0L),\n",
    "\n",
    "    net_yards_db_component =\n",
    "      dplyr::if_else(is_attempt==1L, yards_gained, 0) +\n",
    "      dplyr::if_else(is_sack==1L, -abs(sack_yards), 0) +\n",
    "      dplyr::if_else(is_scramble==1L, yards_gained, 0)\n",
    "  )\n",
    "\n",
    "team_def <- pbp %>%\n",
    "  dplyr::filter(is_dropback == 1L) %>%\n",
    "  dplyr::group_by(season, defteam) %>%\n",
    "  dplyr::summarise(\n",
    "    dropbacks   = dplyr::n(),\n",
    "    attempts    = sum(is_attempt,  na.rm = TRUE),\n",
    "    completions = sum(is_complete, na.rm = TRUE),\n",
    "    sacks       = sum(is_sack,     na.rm = TRUE),\n",
    "    scrambles   = sum(is_scramble, na.rm = TRUE),\n",
    "    explosive_comps = sum(is_explosive, na.rm = TRUE),\n",
    "    interceptions   = sum(is_int,       na.rm = TRUE),\n",
    "    net_yards_sum = sum(net_yards_db_component, na.rm = TRUE),\n",
    "    .groups = \"drop_last\"\n",
    "  ) %>%\n",
    "  dplyr::mutate(\n",
    "    net_yards_per_db_allowed    = dplyr::if_else(dropbacks > 0, net_yards_sum / dropbacks, NA_real_),\n",
    "    explosive_pass_rate_allowed = dplyr::if_else(completions > 0, explosive_comps / completions, NA_real_),\n",
    "    completion_pct_allowed      = dplyr::if_else(attempts > 0, completions / attempts, NA_real_),\n",
    "    int_rate_allowed            = dplyr::if_else(attempts > 0, interceptions / attempts, NA_real_)\n",
    "  ) %>%\n",
    "  dplyr::arrange(defteam)\n",
    "\n",
    "message(sprintf(\"Season %s: teams=%d, dropbacks[sum]=%d\",\n",
    "        SEASON, dplyr::n_distinct(team_def$defteam), sum(team_def$dropbacks, na.rm = TRUE)))\n",
    "\n",
    "readr::write_csv(team_def, file.path(OUT_DIR, paste0(\"team_pass_def_\", SEASON, \".csv\")))\n",
    "\"\"\")\n",
    "\n",
    "# --- D) Combine per-season CSVs (raw aggregates) ---\n",
    "all_files = [os.path.join(OUT_DIR, f) for f in os.listdir(OUT_DIR) if f.endswith(\".csv\")]\n",
    "if not all_files:\n",
    "    raise RuntimeError(\"No per-season CSVs were produced. Check the R loop above.\")\n",
    "\n",
    "missing = [yr for yr in seasons if not any(f.endswith(f\"team_pass_def_{yr}.csv\") for f in all_files)]\n",
    "if missing:\n",
    "    raise RuntimeError(\n",
    "        f\"Missing per-season CSVs for: {missing}. \"\n",
    "        \"If you're on Windows and don't have R 'arrow', parquet may fail—this code already falls back to CSV. \"\n",
    "        \"If the error persists, re-run to rebuild cache.\"\n",
    "    )\n",
    "\n",
    "df_all = pd.concat((pd.read_csv(f) for f in sorted(all_files)), ignore_index=True)\n",
    "\n",
    "print(\"Combined shape:\", df_all.shape)\n",
    "print(\"Teams per season (first 5 seasons):\")\n",
    "print(df_all.groupby(\"season\")[\"defteam\"].nunique().head())\n",
    "\n",
    "# Order & write the raw per-season aggregates\n",
    "expected_cols = [\n",
    "    \"season\",\"defteam\",\"dropbacks\",\"attempts\",\"completions\",\"sacks\",\"scrambles\",\n",
    "    \"explosive_comps\",\"interceptions\",\"net_yards_sum\",\n",
    "    \"net_yards_per_db_allowed\",\n",
    "    \"explosive_pass_rate_allowed\",\"completion_pct_allowed\",\"int_rate_allowed\"\n",
    "]\n",
    "cols = [c for c in expected_cols if c in df_all.columns] + [c for c in df_all.columns if c not in expected_cols]\n",
    "df_all = df_all[cols]\n",
    "df_all.to_csv(\"team_pass_defense_all.csv\", index=False)\n",
    "print(\"✅ Saved team_pass_defense_all.csv\")\n",
    "\n",
    "# --- E) Build PDX-4 (NY/D as efficiency pillar) + corrected percentile ---\n",
    "df = df_all.copy()\n",
    "\n",
    "# Screen tiny samples\n",
    "mask_small = df[\"dropbacks\"] < MIN_DROPBACKS\n",
    "df.loc[mask_small, [\"net_yards_per_db_allowed\",\n",
    "                    \"explosive_pass_rate_allowed\",\"completion_pct_allowed\",\"int_rate_allowed\"]] = np.nan\n",
    "\n",
    "def zscore_group(s: pd.Series) -> pd.Series:\n",
    "    mu = s.mean(skipna=True)\n",
    "    sd = s.std(skipna=True, ddof=0)\n",
    "    if pd.isna(sd) or sd == 0:\n",
    "        return pd.Series(np.zeros(len(s), dtype=\"float64\"), index=s.index)\n",
    "    return (s - mu) / sd\n",
    "\n",
    "# Efficiency pillar (NY/D): lower allowed is better\n",
    "df[\"eff_value\"] = df[\"net_yards_per_db_allowed\"].astype(float)\n",
    "\n",
    "# Z-scores within season\n",
    "df[\"z_eff\"]  = df.groupby(\"season\")[\"eff_value\"].transform(zscore_group)                   # lower better → flip\n",
    "df[\"z_expl\"] = df.groupby(\"season\")[\"explosive_pass_rate_allowed\"].transform(zscore_group) # lower better → flip\n",
    "df[\"z_comp\"] = df.groupby(\"season\")[\"completion_pct_allowed\"].transform(zscore_group)      # lower better → flip\n",
    "df[\"z_int\"]  = df.groupby(\"season\")[\"int_rate_allowed\"].transform(zscore_group)            # higher better\n",
    "\n",
    "# Flip where lower is better\n",
    "df[\"z_eff_f\"]  = -df[\"z_eff\"]\n",
    "df[\"z_expl_f\"] = -df[\"z_expl\"]\n",
    "df[\"z_comp_f\"] = -df[\"z_comp\"]\n",
    "df[\"z_int_f\"]  =  df[\"z_int\"]\n",
    "\n",
    "# Composite\n",
    "df[\"PDX4\"] = (W_EFF*df[\"z_eff_f\"] + W_EXPL*df[\"z_expl_f\"] + W_COMP*df[\"z_comp_f\"] + W_INT*df[\"z_int_f\"])\n",
    "\n",
    "# Rank (1=best) and Strength Percentile (1=best, 0=worst)\n",
    "df[\"season_rank\"] = df.groupby(\"season\")[\"PDX4\"].rank(ascending=False, method=\"min\")\n",
    "df[\"_n_season\"] = df.groupby(\"season\")[\"PDX4\"].transform(\"count\")\n",
    "df[\"season_pct\"] = np.where(\n",
    "    df[\"_n_season\"] > 1,\n",
    "    1 - (df[\"season_rank\"] - 1) / (df[\"_n_season\"] - 1),\n",
    "    1.0\n",
    ")\n",
    "df = df.drop(columns=[\"_n_season\"])\n",
    "\n",
    "# Output by season (clean team col)\n",
    "out_by_season = df[[\n",
    "    \"season\",\"defteam\",\"dropbacks\",\"attempts\",\"completions\",\n",
    "    \"net_yards_per_db_allowed\",\n",
    "    \"explosive_pass_rate_allowed\",\"completion_pct_allowed\",\"int_rate_allowed\",\n",
    "    \"PDX4\",\"season_rank\",\"season_pct\"\n",
    "]].rename(columns={\"defteam\":\"team\"}).sort_values([\"season\",\"season_rank\"])\n",
    "out_by_season.to_csv(\"team_pass_defense_pdx4_by_season.csv\", index=False)\n",
    "\n",
    "# Pre-draft table: season t–1 → draft year t\n",
    "pre = df.copy()\n",
    "pre[\"draft_year\"] = pre[\"season\"] + 1\n",
    "pre = pre.rename(columns={\n",
    "    \"defteam\": \"team\",\n",
    "    \"PDX4\": \"pdx4_prev\",\n",
    "    \"season_rank\": \"rank_prev\",\n",
    "    \"season_pct\": \"pct_prev\"\n",
    "})\n",
    "pre_cols = [\"draft_year\",\"team\",\"pdx4_prev\",\"rank_prev\",\"pct_prev\",\n",
    "            \"eff_value\",\"explosive_pass_rate_allowed\",\n",
    "            \"completion_pct_allowed\",\"int_rate_allowed\",\"dropbacks\"]\n",
    "pre = pre[pre_cols].sort_values([\"draft_year\",\"rank_prev\"])\n",
    "pre.to_csv(\"pre_draft_db_strength.csv\", index=False)\n",
    "\n",
    "# Slim positional rank CSVs\n",
    "db_pos_rank_by_season = out_by_season[[\"season\",\"team\",\"PDX4\",\"season_rank\",\"season_pct\"]]\n",
    "db_pos_rank_by_season.to_csv(\"db_pos_rank_by_season.csv\", index=False)\n",
    "\n",
    "pre_draft_db_pos_rank = pre[[\"draft_year\",\"team\",\"pdx4_prev\",\"rank_prev\",\"pct_prev\"]]\n",
    "pre_draft_db_pos_rank.to_csv(\"pre_draft_db_pos_rank.csv\", index=False)\n",
    "\n",
    "# --- F) VERIFICATION SUITE ---\n",
    "problems = []\n",
    "\n",
    "# 1) Monotonicity checks\n",
    "g = out_by_season.copy()\n",
    "g[\"rank_diff\"] = g.groupby(\"season\")[\"season_rank\"].diff()\n",
    "g[\"pdx_diff\"]  = g.groupby(\"season\")[\"PDX4\"].diff()\n",
    "g[\"pct_diff\"]  = g.groupby(\"season\")[\"season_pct\"].diff()\n",
    "\n",
    "viol_pdx = ((g[\"rank_diff\"] > 0) & (g[\"pdx_diff\"] > 1e-12)).sum()\n",
    "viol_pct = ((g[\"rank_diff\"] > 0) & (g[\"pct_diff\"] > 1e-12)).sum()\n",
    "if viol_pdx > 0: problems.append(f\"Monotonicity violation: PDX4 increases with worse rank in {viol_pdx} rows.\")\n",
    "if viol_pct > 0: problems.append(f\"Monotonicity violation: percentile increases with worse rank in {viol_pct} rows.\")\n",
    "\n",
    "# 2) Percentile scaling\n",
    "rng = out_by_season.groupby(\"season\")[\"season_pct\"].agg([\"min\",\"max\"])\n",
    "bad_rng = rng[(rng[\"min\"] < -1e-9) | (rng[\"max\"] > 1 + 1e-9)]\n",
    "if not bad_rng.empty:\n",
    "    problems.append(f\"Percentile out of [0,1] in seasons: {bad_rng.index.tolist()}\")\n",
    "\n",
    "# 3) Sample size screen honored\n",
    "if (df[\"dropbacks\"] < MIN_DROPBACKS).any():\n",
    "    cols_to_check = [\"eff_value\",\"explosive_pass_rate_allowed\",\"completion_pct_allowed\",\"int_rate_allowed\"]\n",
    "    bad = df.loc[df[\"dropbacks\"] < MIN_DROPBACKS, cols_to_check].notna().any(axis=1).sum()\n",
    "    if bad > 0:\n",
    "        problems.append(\"Tiny-sample rows still have non-NaN pillar values.\")\n",
    "\n",
    "# 4) Positive correlation of flipped z-pillars with PDX4\n",
    "corrs = df[[\"z_eff_f\",\"z_expl_f\",\"z_comp_f\",\"z_int_f\",\"PDX4\"]].corr().loc[\n",
    "    [\"z_eff_f\",\"z_expl_f\",\"z_comp_f\",\"z_int_f\"], \"PDX4\"\n",
    "]\n",
    "if (corrs < -0.05).any():\n",
    "    problems.append(f\"Unexpected negative correlation(s) with PDX4: {corrs[corrs < -0.05].to_dict()}\")\n",
    "\n",
    "# Validation report\n",
    "val_rows = []\n",
    "for s, sub in out_by_season.groupby(\"season\"):\n",
    "    val_rows.append({\n",
    "        \"season\": int(s),\n",
    "        \"teams_reported\": int(sub[\"team\"].nunique()),\n",
    "        \"pdx4_std\": float(sub[\"PDX4\"].std(ddof=0)),\n",
    "        \"nyd_mean\": float(sub[\"net_yards_per_db_allowed\"].mean()),\n",
    "        \"nyd_std\": float(sub[\"net_yards_per_db_allowed\"].std(ddof=0)),\n",
    "        \"expl_rate_mean\": float(sub[\"explosive_pass_rate_allowed\"].mean()),\n",
    "        \"comp_pct_mean\": float(sub[\"completion_pct_allowed\"].mean()),\n",
    "        \"int_rate_mean\": float(sub[\"int_rate_allowed\"].mean()),\n",
    "        \"pct_min\": float(sub[\"season_pct\"].min()),\n",
    "        \"pct_max\": float(sub[\"season_pct\"].max())\n",
    "    })\n",
    "pd.DataFrame(val_rows).to_csv(\"pass_defense_validation_report.csv\", index=False)\n",
    "\n",
    "if problems:\n",
    "    print(\"\\n❗ VALIDATION WARNINGS:\")\n",
    "    for p in problems: print(\" -\", p)\n",
    "else:\n",
    "    print(\"\\n✅ Validation passed (monotonicity, scaling, screening, correlations).\")\n",
    "\n",
    "print(\"\\nSample (top team per season):\")\n",
    "print(out_by_season.groupby(\"season\").head(1)[[\"season\",\"team\",\"PDX4\",\"season_rank\",\"season_pct\"]].head(10))\n",
    "\n",
    "print(\"\\n✅ Outputs:\")\n",
    "print(\" - team_pass_defense_all.csv\")\n",
    "print(\" - team_pass_defense_pdx4_by_season.csv  (percentile: 1=best)\")\n",
    "print(\" - pre_draft_db_strength.csv             (pct_prev: 1=best)\")\n",
    "print(\" - db_pos_rank_by_season.csv\")\n",
    "print(\" - pre_draft_db_pos_rank.csv\")\n",
    "print(\" - pass_defense_validation_report.csv    (for CMU verification)\")\n"
   ]
  }
 ],
 "metadata": {
  "kernelspec": {
   "display_name": "Python 3",
   "language": "python",
   "name": "python3"
  },
  "language_info": {
   "codemirror_mode": {
    "name": "ipython",
    "version": 3
   },
   "file_extension": ".py",
   "mimetype": "text/x-python",
   "name": "python",
   "nbconvert_exporter": "python",
   "pygments_lexer": "ipython3",
   "version": "3.13.5"
  }
 },
 "nbformat": 4,
 "nbformat_minor": 5
}
