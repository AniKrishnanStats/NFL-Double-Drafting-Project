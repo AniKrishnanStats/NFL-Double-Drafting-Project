{
 "cells": [
  {
   "cell_type": "code",
   "execution_count": 21,
   "id": "134de876",
   "metadata": {},
   "outputs": [
    {
     "name": "stderr",
     "output_type": "stream",
     "text": [
      "R callback write-console: Warning:  \n",
      "R callback write-console:  package 'readr' is in use and will not be installed\n",
      "  \n"
     ]
    },
    {
     "name": "stdout",
     "output_type": "stream",
     "text": [
      "Installed readr.\n",
      "Pulling snap counts for 2012 and saving CSV...\n",
      "Pulling snap counts for 2013 and saving CSV...\n",
      "Pulling snap counts for 2014 and saving CSV...\n",
      "Pulling snap counts for 2015 and saving CSV...\n",
      "Pulling snap counts for 2016 and saving CSV...\n",
      "Pulling snap counts for 2017 and saving CSV...\n",
      "Pulling snap counts for 2018 and saving CSV...\n",
      "Pulling snap counts for 2019 and saving CSV...\n",
      "Pulling snap counts for 2020 and saving CSV...\n",
      "Pulling snap counts for 2021 and saving CSV...\n",
      "Pulling snap counts for 2022 and saving CSV...\n",
      "Pulling snap counts for 2023 and saving CSV...\n",
      "Pulling snap counts for 2024 and saving CSV...\n",
      "All seasons saved successfully.\n"
     ]
    }
   ],
   "source": [
    "import rpy2.robjects as ro\n",
    "\n",
    "# one-time install of readr (safe to run again; it will just say it's up to date)\n",
    "ro.r('install.packages(\"readr\", repos=\"https://cloud.r-project.org\")')\n",
    "print(\"Installed readr.\")\n",
    "\n",
    "import rpy2.robjects as ro\n",
    "\n",
    "ro.r('library(nflreadr); library(readr)')\n",
    "\n",
    "for season in range(2012, 2025):\n",
    "    print(f\"Pulling snap counts for {season} and saving CSV...\")\n",
    "    ro.r(f'''\n",
    "        df <- load_snap_counts(season = {season})\n",
    "        readr::write_csv(df, \"snap_counts_{season}.csv\")  # UTF-8 by default\n",
    "    ''')\n",
    "print(\"All seasons saved successfully.\")\n",
    "\n"
   ]
  }
 ],
 "metadata": {
  "kernelspec": {
   "display_name": "Python 3",
   "language": "python",
   "name": "python3"
  },
  "language_info": {
   "codemirror_mode": {
    "name": "ipython",
    "version": 3
   },
   "file_extension": ".py",
   "mimetype": "text/x-python",
   "name": "python",
   "nbconvert_exporter": "python",
   "pygments_lexer": "ipython3",
   "version": "3.13.5"
  }
 },
 "nbformat": 4,
 "nbformat_minor": 5
}
